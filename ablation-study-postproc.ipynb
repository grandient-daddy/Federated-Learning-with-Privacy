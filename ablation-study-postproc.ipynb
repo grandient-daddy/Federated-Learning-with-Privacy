{
 "cells": [
  {
   "cell_type": "markdown",
   "id": "e4da4da5",
   "metadata": {},
   "source": [
    "# Ablation Study: Postprocessing"
   ]
  },
  {
   "cell_type": "code",
   "execution_count": null,
   "id": "c0924501",
   "metadata": {},
   "outputs": [],
   "source": [
    "import matplotlib as mpl\n",
    "import matplotlib.pyplot as plt\n",
    "import numpy as np\n",
    "import pandas as pd\n",
    "import tueplots\n",
    "import tueplots.bundles"
   ]
  },
  {
   "cell_type": "code",
   "execution_count": null,
   "id": "50b5a759",
   "metadata": {},
   "outputs": [],
   "source": [
    "palette_name = 'colorblind'\n",
    "palette = [\n",
    "    '#0173B2', '#DE8F05', '#029E73', '#D55E00', '#CC78BC', '#CA9161',\n",
    "    '#FBAFE4', '#949494', '#ECE133', '#56B4E9'\n",
    "]\n",
    "mpl.rcParams.update({'axes.prop_cycle': mpl.cycler(color=palette)})"
   ]
  },
  {
   "cell_type": "code",
   "execution_count": null,
   "id": "b73a11bb",
   "metadata": {},
   "outputs": [],
   "source": [
    "golden_ratio = 1.6180339887\n",
    "width = 6.91560069445  # Width of two images in row.\n",
    "height = (width / 2) * (golden_ratio - 1)  # Height of one image in row.\n",
    "\n",
    "params = {\n",
    " 'text.usetex': True,\n",
    " 'font.family': 'serif',\n",
    " 'text.latex.preamble': '\\\\usepackage{times} ',\n",
    " 'figure.figsize': (width, height),\n",
    " 'figure.constrained_layout.use': True,\n",
    " 'figure.autolayout': False,\n",
    " 'font.size': 10,\n",
    " 'axes.labelsize': 10,\n",
    " 'legend.fontsize': 8,\n",
    " 'xtick.labelsize': 8,\n",
    " 'ytick.labelsize': 8,\n",
    " 'axes.titlesize': 10,\n",
    "}"
   ]
  },
  {
   "cell_type": "code",
   "execution_count": null,
   "id": "42a0ca71",
   "metadata": {},
   "outputs": [],
   "source": [
    "trends = dict(np.load('data/dynamic-no-privacy.npz'))"
   ]
  },
  {
   "cell_type": "code",
   "execution_count": null,
   "id": "7d6536d8",
   "metadata": {},
   "outputs": [],
   "source": [
    "model_names = ('baseline', 'hypothesis1', 'hypothesis2', 'item2item')\n",
    "\n",
    "props = {\n",
    "    'baseline': ('Full model', palette[0]),\n",
    "    'hypothesis1': ('Rare local updates', palette[1]),\n",
    "    'hypothesis2': ('No local updates', palette[2]),\n",
    "    'item2item': ('SR(od)', palette[3]),\n",
    "}"
   ]
  },
  {
   "cell_type": "code",
   "execution_count": null,
   "id": "cfd4d941",
   "metadata": {},
   "outputs": [],
   "source": [
    "with mpl.rc_context(params):\n",
    "    fig, axes = plt.subplots(1, 2, dpi=150)\n",
    "\n",
    "    ax = axes[0]\n",
    "    for name in (name for name in model_names if name in props):\n",
    "        label, color = props[name]\n",
    "        ax.plot(trends[name], color=color, label=label)\n",
    "    ax.legend()\n",
    "    ax.grid()\n",
    "    ax.set_xlim(0, 40)\n",
    "    ax.set_ylim(0.60, 0.90)\n",
    "    ax.set_xlabel('Cycle')\n",
    "    ax.set_ylabel('Hit Rate (HR@5)')\n",
    "\n",
    "    ax = axes[1]\n",
    "    for name in (name for name in names if name in model_names):\n",
    "        ax.plot((trends[name] - trends['baseline']).cumsum(), label=names[name])\n",
    "    ax.grid()\n",
    "    ax.legend()\n",
    "    ax.set_xlim(0, 40)\n",
    "    ax.set_xlabel('Cycle')\n",
    "    ax.set_ylim(-4, 0.5)\n",
    "    ax.set_ylabel(r'Cummulative $\\delta\\mathrm{HR@5}$')\n",
    "\n",
    "    fig.savefig('doc/fig/dynamics-no-privacy.pgf')"
   ]
  }
 ],
 "metadata": {
  "kernelspec": {
   "display_name": "Python 3 (ipykernel)",
   "language": "python",
   "name": "python3"
  },
  "language_info": {
   "codemirror_mode": {
    "name": "ipython",
    "version": 3
   },
   "file_extension": ".py",
   "mimetype": "text/x-python",
   "name": "python",
   "nbconvert_exporter": "python",
   "pygments_lexer": "ipython3",
   "version": "3.10.2"
  }
 },
 "nbformat": 4,
 "nbformat_minor": 5
}
