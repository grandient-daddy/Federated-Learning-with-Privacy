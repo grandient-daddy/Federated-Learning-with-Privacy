{
 "cells": [
  {
   "cell_type": "code",
   "execution_count": 1,
   "metadata": {},
   "outputs": [],
   "source": [
    "import os\n",
    "import pandas as pd"
   ]
  },
  {
   "cell_type": "code",
   "execution_count": 2,
   "metadata": {},
   "outputs": [
    {
     "name": "stdout",
     "output_type": "stream",
     "text": [
      "\\begin{tabular}{lrrrrrrrrr}\n",
      "\\toprule\n",
      "Models &  HR@1 &  HR@3 &  HR@5 &  MRR@1 &  MRR@3 &  MRR@5 &  NDCG@1 &  NDCG@3 &  NDCG@5 \\\\\n",
      "\\midrule\n",
      "SR(od) & 0.612 & 0.824 & 0.893 &  0.612 &  0.707 &  0.722 &   0.612 &   0.737 &   0.765 \\\\\n",
      "    SR & 0.610 & 0.801 & 0.863 &  0.610 &  0.695 &  0.709 &   0.610 &   0.723 &   0.748 \\\\\n",
      "   MFU & 0.403 & 0.669 & 0.777 &  0.403 &  0.516 &  0.541 &   0.403 &   0.555 &   0.600 \\\\\n",
      "   MRU & 0.618 & 0.823 & 0.849 &  0.618 &  0.716 &  0.722 &   0.618 &   0.744 &   0.754 \\\\\n",
      "Random & 0.089 & 0.239 & 0.365 &  0.089 &  0.153 &  0.181 &   0.089 &   0.175 &   0.227 \\\\\n",
      "    MF & 0.380 & 0.629 & 0.780 &  0.380 &  0.488 &  0.523 &   0.380 &   0.524 &   0.587 \\\\\n",
      " SeqMF & 0.518 & 0.792 & 0.871 &  0.518 &  0.639 &  0.658 &   0.518 &   0.679 &   0.711 \\\\\n",
      "\\bottomrule\n",
      "\\end{tabular}\n",
      "\n"
     ]
    }
   ],
   "source": [
    "dir_path = './metrics_results/lsapp/'\n",
    "overall_name = 'overall.csv'\n",
    "list_dir = sorted(os.listdir(dir_path))\n",
    "df_list = []\n",
    "for file_name in list_dir:\n",
    "    if file_name != (overall_name):\n",
    "        df_list.append(pd.read_csv(dir_path + file_name, sep=',', index_col=[0]))\n",
    "\n",
    "res_df = pd.concat(df_list)\n",
    "res_df.to_csv(dir_path + overall_name, sep=',', header=True)\n",
    "print(res_df.to_latex(index=False))"
   ]
  }
 ],
 "metadata": {
  "interpreter": {
   "hash": "916dbcbb3f70747c44a77c7bcd40155683ae19c65e1c03b4aa3499c5328201f1"
  },
  "kernelspec": {
   "display_name": "Python 3.9.5 64-bit",
   "language": "python",
   "name": "python3"
  },
  "language_info": {
   "codemirror_mode": {
    "name": "ipython",
    "version": 3
   },
   "file_extension": ".py",
   "mimetype": "text/x-python",
   "name": "python",
   "nbconvert_exporter": "python",
   "pygments_lexer": "ipython3",
   "version": "3.9.5"
  },
  "orig_nbformat": 4
 },
 "nbformat": 4,
 "nbformat_minor": 2
}
