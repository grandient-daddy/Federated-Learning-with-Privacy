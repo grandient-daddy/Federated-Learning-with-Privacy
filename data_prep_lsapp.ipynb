{
 "cells": [
  {
   "cell_type": "code",
   "execution_count": 1,
   "metadata": {},
   "outputs": [],
   "source": [
    "import numpy as np\n",
    "import pandas as pd\n",
    "from datetime import datetime"
   ]
  },
  {
   "cell_type": "code",
   "execution_count": 2,
   "metadata": {},
   "outputs": [],
   "source": [
    "data_path = './data/lsapp.tsv.gz'\n",
    "df = pd.read_csv(data_path, sep='\\t')\n",
    "\n",
    "df.loc[:,'timestamp'] = pd.to_datetime(df['timestamp'])\n",
    "df = df.rename(columns={'lsapp.tsv': 'user_id'})\n",
    "\n",
    "df_open = df.loc[df['event_type'] == 'Opened']"
   ]
  },
  {
   "cell_type": "code",
   "execution_count": 3,
   "metadata": {},
   "outputs": [
    {
     "data": {
      "text/html": [
       "<div>\n",
       "<style scoped>\n",
       "    .dataframe tbody tr th:only-of-type {\n",
       "        vertical-align: middle;\n",
       "    }\n",
       "\n",
       "    .dataframe tbody tr th {\n",
       "        vertical-align: top;\n",
       "    }\n",
       "\n",
       "    .dataframe thead th {\n",
       "        text-align: right;\n",
       "    }\n",
       "</style>\n",
       "<table border=\"1\" class=\"dataframe\">\n",
       "  <thead>\n",
       "    <tr style=\"text-align: right;\">\n",
       "      <th></th>\n",
       "      <th>user_id</th>\n",
       "      <th>session_id</th>\n",
       "      <th>timestamp</th>\n",
       "      <th>app_name</th>\n",
       "      <th>event_type</th>\n",
       "    </tr>\n",
       "  </thead>\n",
       "  <tbody>\n",
       "    <tr>\n",
       "      <th>0</th>\n",
       "      <td>0.0</td>\n",
       "      <td>1.0</td>\n",
       "      <td>2018-01-16 06:01:05</td>\n",
       "      <td>Minesweeper Classic (Mines)</td>\n",
       "      <td>Opened</td>\n",
       "    </tr>\n",
       "    <tr>\n",
       "      <th>2</th>\n",
       "      <td>0.0</td>\n",
       "      <td>1.0</td>\n",
       "      <td>2018-01-16 06:01:07</td>\n",
       "      <td>Minesweeper Classic (Mines)</td>\n",
       "      <td>Opened</td>\n",
       "    </tr>\n",
       "    <tr>\n",
       "      <th>4</th>\n",
       "      <td>0.0</td>\n",
       "      <td>1.0</td>\n",
       "      <td>2018-01-16 06:01:08</td>\n",
       "      <td>Minesweeper Classic (Mines)</td>\n",
       "      <td>Opened</td>\n",
       "    </tr>\n",
       "    <tr>\n",
       "      <th>6</th>\n",
       "      <td>0.0</td>\n",
       "      <td>1.0</td>\n",
       "      <td>2018-01-16 06:01:08</td>\n",
       "      <td>Minesweeper Classic (Mines)</td>\n",
       "      <td>Opened</td>\n",
       "    </tr>\n",
       "    <tr>\n",
       "      <th>8</th>\n",
       "      <td>0.0</td>\n",
       "      <td>1.0</td>\n",
       "      <td>2018-01-16 06:01:09</td>\n",
       "      <td>Minesweeper Classic (Mines)</td>\n",
       "      <td>Opened</td>\n",
       "    </tr>\n",
       "  </tbody>\n",
       "</table>\n",
       "</div>"
      ],
      "text/plain": [
       "   user_id  session_id           timestamp                     app_name  \\\n",
       "0      0.0         1.0 2018-01-16 06:01:05  Minesweeper Classic (Mines)   \n",
       "2      0.0         1.0 2018-01-16 06:01:07  Minesweeper Classic (Mines)   \n",
       "4      0.0         1.0 2018-01-16 06:01:08  Minesweeper Classic (Mines)   \n",
       "6      0.0         1.0 2018-01-16 06:01:08  Minesweeper Classic (Mines)   \n",
       "8      0.0         1.0 2018-01-16 06:01:09  Minesweeper Classic (Mines)   \n",
       "\n",
       "  event_type  \n",
       "0     Opened  \n",
       "2     Opened  \n",
       "4     Opened  \n",
       "6     Opened  \n",
       "8     Opened  "
      ]
     },
     "execution_count": 3,
     "metadata": {},
     "output_type": "execute_result"
    }
   ],
   "source": [
    "df_open.head()"
   ]
  },
  {
   "cell_type": "code",
   "execution_count": 4,
   "metadata": {},
   "outputs": [
    {
     "data": {
      "image/png": "[encoded data removed]",
      "text/plain": [
       "<Figure size 432x288 with 1 Axes>"
      ]
     },
     "metadata": {
      "needs_background": "light"
     },
     "output_type": "display_data"
    }
   ],
   "source": [
    "df_sorted = df_open.sort_values('timestamp')\n",
    "(\n",
    "    df_sorted\n",
    "    .timestamp\n",
    "    .diff()\n",
    "    .groupby(df_sorted.user_id)\n",
    "    .value_counts()\n",
    "    .reset_index(level=0, drop=True)\n",
    "    .sort_index()\n",
    "    .groupby(level=0, sort=True)\n",
    "    .mean()\n",
    "    .cumsum()\n",
    "    .iloc[:30]\n",
    "    .plot(logy=True)\n",
    ");"
   ]
  },
  {
   "cell_type": "code",
   "execution_count": 5,
   "metadata": {},
   "outputs": [
    {
     "data": {
      "text/html": [
       "<div>\n",
       "<style scoped>\n",
       "    .dataframe tbody tr th:only-of-type {\n",
       "        vertical-align: middle;\n",
       "    }\n",
       "\n",
       "    .dataframe tbody tr th {\n",
       "        vertical-align: top;\n",
       "    }\n",
       "\n",
       "    .dataframe thead th {\n",
       "        text-align: right;\n",
       "    }\n",
       "</style>\n",
       "<table border=\"1\" class=\"dataframe\">\n",
       "  <thead>\n",
       "    <tr style=\"text-align: right;\">\n",
       "      <th></th>\n",
       "      <th>user_id</th>\n",
       "      <th>session_id</th>\n",
       "      <th>timestamp</th>\n",
       "      <th>app_name</th>\n",
       "      <th>event_type</th>\n",
       "    </tr>\n",
       "  </thead>\n",
       "  <tbody>\n",
       "    <tr>\n",
       "      <th>0</th>\n",
       "      <td>0.0</td>\n",
       "      <td>1.0</td>\n",
       "      <td>2018-01-16 06:01:05</td>\n",
       "      <td>Minesweeper Classic (Mines)</td>\n",
       "      <td>Opened</td>\n",
       "    </tr>\n",
       "    <tr>\n",
       "      <th>1</th>\n",
       "      <td>0.0</td>\n",
       "      <td>1.0</td>\n",
       "      <td>2018-01-16 06:01:05</td>\n",
       "      <td>Minesweeper Classic (Mines)</td>\n",
       "      <td>Closed</td>\n",
       "    </tr>\n",
       "    <tr>\n",
       "      <th>2</th>\n",
       "      <td>0.0</td>\n",
       "      <td>1.0</td>\n",
       "      <td>2018-01-16 06:01:07</td>\n",
       "      <td>Minesweeper Classic (Mines)</td>\n",
       "      <td>Opened</td>\n",
       "    </tr>\n",
       "    <tr>\n",
       "      <th>3</th>\n",
       "      <td>0.0</td>\n",
       "      <td>1.0</td>\n",
       "      <td>2018-01-16 06:01:07</td>\n",
       "      <td>Minesweeper Classic (Mines)</td>\n",
       "      <td>Closed</td>\n",
       "    </tr>\n",
       "    <tr>\n",
       "      <th>4</th>\n",
       "      <td>0.0</td>\n",
       "      <td>1.0</td>\n",
       "      <td>2018-01-16 06:01:08</td>\n",
       "      <td>Minesweeper Classic (Mines)</td>\n",
       "      <td>Opened</td>\n",
       "    </tr>\n",
       "  </tbody>\n",
       "</table>\n",
       "</div>"
      ],
      "text/plain": [
       "   user_id  session_id           timestamp                     app_name  \\\n",
       "0      0.0         1.0 2018-01-16 06:01:05  Minesweeper Classic (Mines)   \n",
       "1      0.0         1.0 2018-01-16 06:01:05  Minesweeper Classic (Mines)   \n",
       "2      0.0         1.0 2018-01-16 06:01:07  Minesweeper Classic (Mines)   \n",
       "3      0.0         1.0 2018-01-16 06:01:07  Minesweeper Classic (Mines)   \n",
       "4      0.0         1.0 2018-01-16 06:01:08  Minesweeper Classic (Mines)   \n",
       "\n",
       "  event_type  \n",
       "0     Opened  \n",
       "1     Closed  \n",
       "2     Opened  \n",
       "3     Closed  \n",
       "4     Opened  "
      ]
     },
     "execution_count": 5,
     "metadata": {},
     "output_type": "execute_result"
    }
   ],
   "source": [
    "df.head()"
   ]
  },
  {
   "cell_type": "code",
   "execution_count": 6,
   "metadata": {},
   "outputs": [
    {
     "data": {
      "text/plain": [
       "array(['Opened', 'Closed', 'User Interaction', 'Broken', nan],\n",
       "      dtype=object)"
      ]
     },
     "execution_count": 6,
     "metadata": {},
     "output_type": "execute_result"
    }
   ],
   "source": [
    "df.event_type.unique()"
   ]
  },
  {
   "cell_type": "code",
   "execution_count": 7,
   "metadata": {},
   "outputs": [
    {
     "data": {
      "text/plain": [
       "((3658590, 5), (1673261, 5))"
      ]
     },
     "execution_count": 7,
     "metadata": {},
     "output_type": "execute_result"
    }
   ],
   "source": [
    "df.shape, df_open.shape"
   ]
  },
  {
   "cell_type": "markdown",
   "metadata": {},
   "source": [
    "## Prepare for DataProcessor:"
   ]
  },
  {
   "cell_type": "code",
   "execution_count": 8,
   "metadata": {},
   "outputs": [],
   "source": [
    "df_open = df_open.dropna()"
   ]
  },
  {
   "cell_type": "code",
   "execution_count": 9,
   "metadata": {},
   "outputs": [],
   "source": [
    "uniq_apps = list(df_open[\"app_name\"].unique())\n",
    "app2id = dict(zip(uniq_apps, range(len(uniq_apps))))"
   ]
  },
  {
   "cell_type": "code",
   "execution_count": 10,
   "metadata": {},
   "outputs": [],
   "source": [
    "df_open[\"appid\"] = df_open[\"app_name\"].apply(lambda x: app2id[x])"
   ]
  },
  {
   "cell_type": "code",
   "execution_count": 11,
   "metadata": {},
   "outputs": [],
   "source": [
    "df_open[\"userid\"] = df_open[\"user_id\"].astype(int)"
   ]
  },
  {
   "cell_type": "code",
   "execution_count": 12,
   "metadata": {},
   "outputs": [
    {
     "data": {
      "text/html": [
       "<div>\n",
       "<style scoped>\n",
       "    .dataframe tbody tr th:only-of-type {\n",
       "        vertical-align: middle;\n",
       "    }\n",
       "\n",
       "    .dataframe tbody tr th {\n",
       "        vertical-align: top;\n",
       "    }\n",
       "\n",
       "    .dataframe thead th {\n",
       "        text-align: right;\n",
       "    }\n",
       "</style>\n",
       "<table border=\"1\" class=\"dataframe\">\n",
       "  <thead>\n",
       "    <tr style=\"text-align: right;\">\n",
       "      <th></th>\n",
       "      <th>userid</th>\n",
       "      <th>appid</th>\n",
       "      <th>timestamp</th>\n",
       "      <th>app_name</th>\n",
       "    </tr>\n",
       "  </thead>\n",
       "  <tbody>\n",
       "    <tr>\n",
       "      <th>0</th>\n",
       "      <td>0</td>\n",
       "      <td>0</td>\n",
       "      <td>2018-01-16 06:01:05</td>\n",
       "      <td>Minesweeper Classic (Mines)</td>\n",
       "    </tr>\n",
       "    <tr>\n",
       "      <th>2</th>\n",
       "      <td>0</td>\n",
       "      <td>0</td>\n",
       "      <td>2018-01-16 06:01:07</td>\n",
       "      <td>Minesweeper Classic (Mines)</td>\n",
       "    </tr>\n",
       "    <tr>\n",
       "      <th>4</th>\n",
       "      <td>0</td>\n",
       "      <td>0</td>\n",
       "      <td>2018-01-16 06:01:08</td>\n",
       "      <td>Minesweeper Classic (Mines)</td>\n",
       "    </tr>\n",
       "    <tr>\n",
       "      <th>6</th>\n",
       "      <td>0</td>\n",
       "      <td>0</td>\n",
       "      <td>2018-01-16 06:01:08</td>\n",
       "      <td>Minesweeper Classic (Mines)</td>\n",
       "    </tr>\n",
       "    <tr>\n",
       "      <th>8</th>\n",
       "      <td>0</td>\n",
       "      <td>0</td>\n",
       "      <td>2018-01-16 06:01:09</td>\n",
       "      <td>Minesweeper Classic (Mines)</td>\n",
       "    </tr>\n",
       "  </tbody>\n",
       "</table>\n",
       "</div>"
      ],
      "text/plain": [
       "   userid  appid           timestamp                     app_name\n",
       "0       0      0 2018-01-16 06:01:05  Minesweeper Classic (Mines)\n",
       "2       0      0 2018-01-16 06:01:07  Minesweeper Classic (Mines)\n",
       "4       0      0 2018-01-16 06:01:08  Minesweeper Classic (Mines)\n",
       "6       0      0 2018-01-16 06:01:08  Minesweeper Classic (Mines)\n",
       "8       0      0 2018-01-16 06:01:09  Minesweeper Classic (Mines)"
      ]
     },
     "execution_count": 12,
     "metadata": {},
     "output_type": "execute_result"
    }
   ],
   "source": [
    "out = df_open[[\"userid\", \"appid\", \"timestamp\", \"app_name\"]]\n",
    "out.head()"
   ]
  },
  {
   "cell_type": "code",
   "execution_count": 13,
   "metadata": {},
   "outputs": [
    {
     "name": "stderr",
     "output_type": "stream",
     "text": [
      "/home/albert/.local/lib/python3.9/site-packages/pandas/core/generic.py:5516: SettingWithCopyWarning: \n",
      "A value is trying to be set on a copy of a slice from a DataFrame.\n",
      "Try using .loc[row_indexer,col_indexer] = value instead\n",
      "\n",
      "See the caveats in the documentation: https://pandas.pydata.org/pandas-docs/stable/user_guide/indexing.html#returning-a-view-versus-a-copy\n",
      "  self[name] = value\n"
     ]
    }
   ],
   "source": [
    "out.timestamp = out.timestamp.apply(lambda x: '{:%Y%m%d%H%M%S}'.format(datetime.strptime(str(x), '%Y-%m-%d %H:%M:%S')))"
   ]
  },
  {
   "cell_type": "code",
   "execution_count": 14,
   "metadata": {},
   "outputs": [
    {
     "data": {
      "text/html": [
       "<div>\n",
       "<style scoped>\n",
       "    .dataframe tbody tr th:only-of-type {\n",
       "        vertical-align: middle;\n",
       "    }\n",
       "\n",
       "    .dataframe tbody tr th {\n",
       "        vertical-align: top;\n",
       "    }\n",
       "\n",
       "    .dataframe thead th {\n",
       "        text-align: right;\n",
       "    }\n",
       "</style>\n",
       "<table border=\"1\" class=\"dataframe\">\n",
       "  <thead>\n",
       "    <tr style=\"text-align: right;\">\n",
       "      <th></th>\n",
       "      <th>userid</th>\n",
       "      <th>appid</th>\n",
       "      <th>timestamp</th>\n",
       "      <th>app_name</th>\n",
       "    </tr>\n",
       "  </thead>\n",
       "  <tbody>\n",
       "    <tr>\n",
       "      <th>0</th>\n",
       "      <td>0</td>\n",
       "      <td>0</td>\n",
       "      <td>20180116060105</td>\n",
       "      <td>Minesweeper Classic (Mines)</td>\n",
       "    </tr>\n",
       "    <tr>\n",
       "      <th>1</th>\n",
       "      <td>0</td>\n",
       "      <td>0</td>\n",
       "      <td>20180116060107</td>\n",
       "      <td>Minesweeper Classic (Mines)</td>\n",
       "    </tr>\n",
       "    <tr>\n",
       "      <th>2</th>\n",
       "      <td>0</td>\n",
       "      <td>0</td>\n",
       "      <td>20180116060108</td>\n",
       "      <td>Minesweeper Classic (Mines)</td>\n",
       "    </tr>\n",
       "    <tr>\n",
       "      <th>3</th>\n",
       "      <td>0</td>\n",
       "      <td>0</td>\n",
       "      <td>20180116060108</td>\n",
       "      <td>Minesweeper Classic (Mines)</td>\n",
       "    </tr>\n",
       "    <tr>\n",
       "      <th>4</th>\n",
       "      <td>0</td>\n",
       "      <td>0</td>\n",
       "      <td>20180116060109</td>\n",
       "      <td>Minesweeper Classic (Mines)</td>\n",
       "    </tr>\n",
       "  </tbody>\n",
       "</table>\n",
       "</div>"
      ],
      "text/plain": [
       "   userid  appid       timestamp                     app_name\n",
       "0       0      0  20180116060105  Minesweeper Classic (Mines)\n",
       "1       0      0  20180116060107  Minesweeper Classic (Mines)\n",
       "2       0      0  20180116060108  Minesweeper Classic (Mines)\n",
       "3       0      0  20180116060108  Minesweeper Classic (Mines)\n",
       "4       0      0  20180116060109  Minesweeper Classic (Mines)"
      ]
     },
     "execution_count": 14,
     "metadata": {},
     "output_type": "execute_result"
    }
   ],
   "source": [
    "out = out.reset_index(drop=True)\n",
    "out.head()"
   ]
  },
  {
   "cell_type": "code",
   "execution_count": 15,
   "metadata": {},
   "outputs": [],
   "source": [
    "out.to_csv(\"./data/lsapp.csv\", index=False, sep=' ', header=False)"
   ]
  },
  {
   "cell_type": "markdown",
   "metadata": {},
   "source": [
    "# Look at DataProcessor:"
   ]
  },
  {
   "cell_type": "code",
   "execution_count": 16,
   "metadata": {},
   "outputs": [],
   "source": [
    "from DataProcessor import DataProcessor\n",
    "from dataprep import list_session_lists"
   ]
  },
  {
   "cell_type": "markdown",
   "metadata": {},
   "source": [
    "## Do not drop consecutive sessions:"
   ]
  },
  {
   "cell_type": "code",
   "execution_count": 17,
   "metadata": {},
   "outputs": [],
   "source": [
    "process_data = DataProcessor(\n",
    "    \"./data/lsapp.csv\",\n",
    "    column_names='userid,appid,timestamp,app_name',\n",
    "    session_break_delta='15min',\n",
    ")"
   ]
  },
  {
   "cell_type": "code",
   "execution_count": 18,
   "metadata": {},
   "outputs": [
    {
     "data": {
      "text/html": [
       "<div>\n",
       "<style scoped>\n",
       "    .dataframe tbody tr th:only-of-type {\n",
       "        vertical-align: middle;\n",
       "    }\n",
       "\n",
       "    .dataframe tbody tr th {\n",
       "        vertical-align: top;\n",
       "    }\n",
       "\n",
       "    .dataframe thead th {\n",
       "        text-align: right;\n",
       "    }\n",
       "</style>\n",
       "<table border=\"1\" class=\"dataframe\">\n",
       "  <thead>\n",
       "    <tr style=\"text-align: right;\">\n",
       "      <th></th>\n",
       "      <th>userid</th>\n",
       "      <th>appid</th>\n",
       "      <th>timestamp</th>\n",
       "      <th>app_name</th>\n",
       "    </tr>\n",
       "  </thead>\n",
       "  <tbody>\n",
       "    <tr>\n",
       "      <th>0</th>\n",
       "      <td>0</td>\n",
       "      <td>0</td>\n",
       "      <td>2018-01-16 06:01:05</td>\n",
       "      <td>Minesweeper Classic (Mines)</td>\n",
       "    </tr>\n",
       "    <tr>\n",
       "      <th>1</th>\n",
       "      <td>0</td>\n",
       "      <td>0</td>\n",
       "      <td>2018-01-16 06:01:07</td>\n",
       "      <td>Minesweeper Classic (Mines)</td>\n",
       "    </tr>\n",
       "    <tr>\n",
       "      <th>2</th>\n",
       "      <td>0</td>\n",
       "      <td>0</td>\n",
       "      <td>2018-01-16 06:01:08</td>\n",
       "      <td>Minesweeper Classic (Mines)</td>\n",
       "    </tr>\n",
       "    <tr>\n",
       "      <th>3</th>\n",
       "      <td>0</td>\n",
       "      <td>0</td>\n",
       "      <td>2018-01-16 06:01:08</td>\n",
       "      <td>Minesweeper Classic (Mines)</td>\n",
       "    </tr>\n",
       "    <tr>\n",
       "      <th>4</th>\n",
       "      <td>0</td>\n",
       "      <td>0</td>\n",
       "      <td>2018-01-16 06:01:09</td>\n",
       "      <td>Minesweeper Classic (Mines)</td>\n",
       "    </tr>\n",
       "  </tbody>\n",
       "</table>\n",
       "</div>"
      ],
      "text/plain": [
       "   userid  appid           timestamp                     app_name\n",
       "0       0      0 2018-01-16 06:01:05  Minesweeper Classic (Mines)\n",
       "1       0      0 2018-01-16 06:01:07  Minesweeper Classic (Mines)\n",
       "2       0      0 2018-01-16 06:01:08  Minesweeper Classic (Mines)\n",
       "3       0      0 2018-01-16 06:01:08  Minesweeper Classic (Mines)\n",
       "4       0      0 2018-01-16 06:01:09  Minesweeper Classic (Mines)"
      ]
     },
     "execution_count": 18,
     "metadata": {},
     "output_type": "execute_result"
    }
   ],
   "source": [
    "data = process_data.read_data()\n",
    "data.head()"
   ]
  },
  {
   "cell_type": "code",
   "execution_count": 19,
   "metadata": {},
   "outputs": [
    {
     "data": {
      "text/html": [
       "<div>\n",
       "<style scoped>\n",
       "    .dataframe tbody tr th:only-of-type {\n",
       "        vertical-align: middle;\n",
       "    }\n",
       "\n",
       "    .dataframe tbody tr th {\n",
       "        vertical-align: top;\n",
       "    }\n",
       "\n",
       "    .dataframe thead th {\n",
       "        text-align: right;\n",
       "    }\n",
       "</style>\n",
       "<table border=\"1\" class=\"dataframe\">\n",
       "  <thead>\n",
       "    <tr style=\"text-align: right;\">\n",
       "      <th></th>\n",
       "      <th>userid</th>\n",
       "      <th>appid</th>\n",
       "      <th>timestamp</th>\n",
       "      <th>app_name</th>\n",
       "      <th>sessid</th>\n",
       "      <th>sessid_global</th>\n",
       "    </tr>\n",
       "  </thead>\n",
       "  <tbody>\n",
       "    <tr>\n",
       "      <th>0</th>\n",
       "      <td>0</td>\n",
       "      <td>0</td>\n",
       "      <td>2018-01-16 06:01:05</td>\n",
       "      <td>Minesweeper Classic (Mines)</td>\n",
       "      <td>0</td>\n",
       "      <td>0</td>\n",
       "    </tr>\n",
       "    <tr>\n",
       "      <th>1</th>\n",
       "      <td>0</td>\n",
       "      <td>0</td>\n",
       "      <td>2018-01-16 06:01:07</td>\n",
       "      <td>Minesweeper Classic (Mines)</td>\n",
       "      <td>0</td>\n",
       "      <td>0</td>\n",
       "    </tr>\n",
       "    <tr>\n",
       "      <th>2</th>\n",
       "      <td>0</td>\n",
       "      <td>0</td>\n",
       "      <td>2018-01-16 06:01:08</td>\n",
       "      <td>Minesweeper Classic (Mines)</td>\n",
       "      <td>0</td>\n",
       "      <td>0</td>\n",
       "    </tr>\n",
       "    <tr>\n",
       "      <th>3</th>\n",
       "      <td>0</td>\n",
       "      <td>0</td>\n",
       "      <td>2018-01-16 06:01:08</td>\n",
       "      <td>Minesweeper Classic (Mines)</td>\n",
       "      <td>0</td>\n",
       "      <td>0</td>\n",
       "    </tr>\n",
       "    <tr>\n",
       "      <th>4</th>\n",
       "      <td>0</td>\n",
       "      <td>0</td>\n",
       "      <td>2018-01-16 06:01:09</td>\n",
       "      <td>Minesweeper Classic (Mines)</td>\n",
       "      <td>0</td>\n",
       "      <td>0</td>\n",
       "    </tr>\n",
       "  </tbody>\n",
       "</table>\n",
       "</div>"
      ],
      "text/plain": [
       "   userid  appid           timestamp                     app_name  sessid  \\\n",
       "0       0      0 2018-01-16 06:01:05  Minesweeper Classic (Mines)       0   \n",
       "1       0      0 2018-01-16 06:01:07  Minesweeper Classic (Mines)       0   \n",
       "2       0      0 2018-01-16 06:01:08  Minesweeper Classic (Mines)       0   \n",
       "3       0      0 2018-01-16 06:01:08  Minesweeper Classic (Mines)       0   \n",
       "4       0      0 2018-01-16 06:01:09  Minesweeper Classic (Mines)       0   \n",
       "\n",
       "   sessid_global  \n",
       "0              0  \n",
       "1              0  \n",
       "2              0  \n",
       "3              0  \n",
       "4              0  "
      ]
     },
     "execution_count": 19,
     "metadata": {},
     "output_type": "execute_result"
    }
   ],
   "source": [
    "data = process_data.create_sessid_column(data)\n",
    "data.head()"
   ]
  },
  {
   "cell_type": "code",
   "execution_count": 20,
   "metadata": {},
   "outputs": [
    {
     "data": {
      "text/plain": [
       "count    31799.000000\n",
       "mean        52.619925\n",
       "std        179.575103\n",
       "min          1.000000\n",
       "25%          4.000000\n",
       "50%         12.000000\n",
       "75%         38.000000\n",
       "max       9855.000000\n",
       "dtype: float64"
      ]
     },
     "execution_count": 20,
     "metadata": {},
     "output_type": "execute_result"
    }
   ],
   "source": [
    "data.groupby([\"userid\", \"sessid\"]).size().describe()"
   ]
  },
  {
   "cell_type": "code",
   "execution_count": 21,
   "metadata": {},
   "outputs": [],
   "source": [
    "denom = data.groupby([\"userid\", \"sessid\"]).size().value_counts().sum()\n",
    "freq_map = (data.groupby([\"userid\", \"sessid\"]).size().value_counts() / denom)"
   ]
  },
  {
   "cell_type": "code",
   "execution_count": 22,
   "metadata": {},
   "outputs": [],
   "source": [
    "prob = data.groupby([\"userid\", \"sessid\"]).apply(lambda x: freq_map[x.shape[0]]).values.tolist()"
   ]
  },
  {
   "cell_type": "code",
   "execution_count": 23,
   "metadata": {},
   "outputs": [],
   "source": [
    "inds = data.groupby([\"userid\", \"sessid\"]).apply(lambda x: freq_map[x.shape[0]]).index.tolist()"
   ]
  },
  {
   "cell_type": "code",
   "execution_count": 24,
   "metadata": {},
   "outputs": [
    {
     "data": {
      "image/png": "[encoded data removed]",
      "text/plain": [
       "<Figure size 432x288 with 1 Axes>"
      ]
     },
     "metadata": {
      "needs_background": "light"
     },
     "output_type": "display_data"
    }
   ],
   "source": [
    "pd.Series(np.random.choice(freq_map.index, int(0.1 * len(inds)), p=freq_map.values)).hist();"
   ]
  },
  {
   "cell_type": "code",
   "execution_count": 25,
   "metadata": {},
   "outputs": [
    {
     "data": {
      "image/png": "[encoded data removed]",
      "text/plain": [
       "<Figure size 1152x576 with 1 Axes>"
      ]
     },
     "metadata": {
      "needs_background": "light"
     },
     "output_type": "display_data"
    }
   ],
   "source": [
    "(\n",
    "    data\n",
    "    .groupby([\"userid\", \"sessid\"])\n",
    "    .size()\n",
    "    .value_counts()\n",
    "    .sort_values(ascending=False)\n",
    "    .iloc[:100]\n",
    "    .plot(logy=True, figsize=(16, 8))\n",
    ");"
   ]
  },
  {
   "cell_type": "code",
   "execution_count": 26,
   "metadata": {},
   "outputs": [
    {
     "data": {
      "image/png": "[encoded data removed]",
      "text/plain": [
       "<Figure size 1152x576 with 1 Axes>"
      ]
     },
     "metadata": {
      "needs_background": "light"
     },
     "output_type": "display_data"
    }
   ],
   "source": [
    "(\n",
    "    data\n",
    "    .groupby([\"userid\", \"sessid\"])\n",
    "    .size()\n",
    "    .sort_values(ascending=False)\n",
    "    .iloc[:10000]\n",
    "    .hist(figsize=(16, 8), bins=20)\n",
    ");"
   ]
  },
  {
   "cell_type": "code",
   "execution_count": 27,
   "metadata": {},
   "outputs": [],
   "source": [
    "train, valid, test = process_data.train_valid_test(data, reindex=True, test_interval=\"14d\", valid_interval=\"7d\")"
   ]
  },
  {
   "cell_type": "code",
   "execution_count": 28,
   "metadata": {},
   "outputs": [
    {
     "data": {
      "image/png": "[encoded data removed]",
      "text/plain": [
       "<Figure size 1152x576 with 1 Axes>"
      ]
     },
     "metadata": {
      "needs_background": "light"
     },
     "output_type": "display_data"
    }
   ],
   "source": [
    "(\n",
    "    train\n",
    "    .groupby([\"userid\", \"sessid\"])\n",
    "    .size()\n",
    "    .sort_values(ascending=False)\n",
    "    #.iloc[:10000]\n",
    "    .hist(figsize=(16, 8), bins=20)\n",
    ");"
   ]
  },
  {
   "cell_type": "code",
   "execution_count": 29,
   "metadata": {},
   "outputs": [
    {
     "data": {
      "image/png": "[encoded data removed]",
      "text/plain": [
       "<Figure size 1152x576 with 1 Axes>"
      ]
     },
     "metadata": {
      "needs_background": "light"
     },
     "output_type": "display_data"
    }
   ],
   "source": [
    "(\n",
    "    valid\n",
    "    .groupby([\"userid\", \"sessid\"])\n",
    "    .size()\n",
    "    .sort_values(ascending=False)\n",
    "    #.iloc[:10000]\n",
    "    .hist(figsize=(16, 8), bins=20)\n",
    ");"
   ]
  },
  {
   "cell_type": "code",
   "execution_count": 30,
   "metadata": {},
   "outputs": [
    {
     "data": {
      "image/png": "[encoded data removed]",
      "text/plain": [
       "<Figure size 1152x576 with 1 Axes>"
      ]
     },
     "metadata": {
      "needs_background": "light"
     },
     "output_type": "display_data"
    }
   ],
   "source": [
    "(\n",
    "    test\n",
    "    .groupby([\"userid\", \"sessid\"])\n",
    "    .size()\n",
    "    .sort_values(ascending=False)\n",
    "    #.iloc[:10000]\n",
    "    .hist(figsize=(16, 8), bins=20)\n",
    ");"
   ]
  }
 ],
 "metadata": {
  "kernelspec": {
   "display_name": "Python 3",
   "language": "python",
   "name": "python3"
  },
  "language_info": {
   "codemirror_mode": {
    "name": "ipython",
    "version": 3
   },
   "file_extension": ".py",
   "mimetype": "text/x-python",
   "name": "python",
   "nbconvert_exporter": "python",
   "pygments_lexer": "ipython3",
   "version": "3.9.5"
  }
 },
 "nbformat": 4,
 "nbformat_minor": 2
}
